{
 "cells": [
  {
   "cell_type": "markdown",
   "metadata": {},
   "source": [
    "# UIUC Reboot Capstone Project"
   ]
  },
  {
   "cell_type": "markdown",
   "metadata": {},
   "source": [
    "## Overview\n",
    "You work for a regional soft drink distribution center that has access to invoice data from convenience stores (invoices.csv), product data (items.csv), and customer reviews (the files in reviews/).\n",
    "\n",
    "You would like to examine the data for a few features, then plug them into a recommendation engine to see if you can improve sales."
   ]
  },
  {
   "cell_type": "markdown",
   "metadata": {},
   "source": [
    "### Loading Data"
   ]
  },
  {
   "cell_type": "code",
   "metadata": {},
   "outputs": [],
   "source": [
    "import pandas as pd\n",
    "import glob as glob\n",
    "import zipfile\n",
    "import numpy as np               # to get unique values from list using numpy.unique \n"
   ]
  },
  {
   "outputs": [
    {
     "name": "stdout",
     "output_type": "stream",
     "text": [
      "Compiling Product Reviews:\t\t50000\n"
     ]
    }
   ],
   "source": [
    "# Read in files here\n",
    "\n",
    "print(\"Compiling Product Reviews:\\t\\t\", end='')\n",
    "\n",
    "zf = zipfile.ZipFile('reviews.zip')\n",
    "datReviews = [filename for filename in zf.namelist() if filename.endswith(\".dat\")]\n",
    "print(len(datReviews))\n"
   ]
  },
  {
   "cell_type": "code",
   "execution_count": 3,
   "metadata": {},
   "outputs": [],
   "source": [
    "# Basic dataframe info"
   ]
  },
  {
   "cell_type": "code",
   "execution_count": null,
   "metadata": {},
   "outputs": [],
   "source": []
  }
 ],
 "metadata": {
  "kernelspec": {
   "display_name": "Python 3",
   "language": "python",
   "name": "python3"
  },
  "language_info": {
   "codemirror_mode": {
    "name": "ipython",
    "version": 3
   },
   "file_extension": ".py",
   "mimetype": "text/x-python",
   "name": "python",
   "nbconvert_exporter": "python",
   "pygments_lexer": "ipython3",
   "version": "3.8.5"
  }
 },
 "nbformat": 4,
 "nbformat_minor": 4
}
